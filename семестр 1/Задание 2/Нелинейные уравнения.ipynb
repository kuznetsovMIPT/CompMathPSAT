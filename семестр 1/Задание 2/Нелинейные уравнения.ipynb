{
 "cells": [
  {
   "cell_type": "markdown",
   "id": "384f280c-4928-4626-b8f8-ffbb62071156",
   "metadata": {},
   "source": [
    "# Нелинейные уравнения"
   ]
  },
  {
   "cell_type": "markdown",
   "id": "5bff5b76-208c-4904-a5d5-fef0f27845ea",
   "metadata": {},
   "source": [
    "## Базовый уровень\n",
    "Реализовать метод Ньютона для уравнения Кеплера ```E - e sin(E) = M```\n",
    "\n",
    "Рекомендуемая сигнатура:\n",
    "```c++\n",
    "/**\n",
    "    Решает уравнение Кеплера методом Ньютона\n",
    "    * ecc - эксцентриситет, принадлежит (0, 1)\n",
    "    * meanAnomaly - средняя аномалия, М (радианы)\n",
    "    * maxIter - максимальное количество итераций\n",
    "    * tol - точность, с которой нужно отыскать решение\n",
    "\n",
    "    Рекомендуемое поведение. Если решение не нашлось за maxIter итераций - выбрасывать исключение.\n",
    "    Если приближения к решению между итерациями меняются не более, чем на tol, то решение достигнуто.\n",
    "**/\n",
    "double keplerSolver(double ecc, double meanAnomaly, usigned int maxIter, double tol);\n",
    "```\n",
    "Для эксцентриситетов $0.1, 0.2, 0.5, 0.8$ построить график зависимости десятичного логарифма ошибки $|E_i - E^*|$\n",
    "от номера $i$. Среднюю аномалию положить равной $\\pi / 4$. Подумать, что нужно выбирать в качестве начального приближения!\n",
    "\n",
    "Реализовать метод простой итерации $x_{i+1} = x_i + \\tau F(x_i)$.\n",
    "\n",
    "Рекомендуемая сигнатура:\n",
    "```c++\n",
    "\n",
    "template<typename A>\n",
    "struct ArgumentGetter;\n",
    "\n",
    "template<typename R, typename Arg>\n",
    "struct ArgumentGetter<R(Arg)> {\n",
    "    using Argument = Arg;\n",
    "};\n",
    "\n",
    "template<typename Callable, typename RealType>\n",
    "decltype(auto) solve(   \n",
    "    const Callable& func,                                             // функция F\n",
    "    const RealType& tau,                                              // шаг тау\n",
    "    const typename ArgumentGetter<Callable>::Argument& initialGuess,  // начальное приближение\n",
    "    const unsigned int nIteration                                     // количество итераций\n",
    "                    );\n",
    "```\n",
    "Рассмотреть систему $x^2 + y^2 = 1, y = tg(x)$ и найти все ее решения с точностью $10^{-6}$.\n"
   ]
  }
 ],
 "metadata": {
  "kernelspec": {
   "display_name": "Python 3 (ipykernel)",
   "language": "python",
   "name": "python3"
  },
  "language_info": {
   "codemirror_mode": {
    "name": "ipython",
    "version": 3
   },
   "file_extension": ".py",
   "mimetype": "text/x-python",
   "name": "python",
   "nbconvert_exporter": "python",
   "pygments_lexer": "ipython3",
   "version": "3.10.12"
  }
 },
 "nbformat": 4,
 "nbformat_minor": 5
}

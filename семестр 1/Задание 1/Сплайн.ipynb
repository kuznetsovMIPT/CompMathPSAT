{
 "cells": [
  {
   "cell_type": "markdown",
   "id": "384f280c-4928-4626-b8f8-ffbb62071156",
   "metadata": {},
   "source": [
    "# Сплайн"
   ]
  },
  {
   "cell_type": "markdown",
   "id": "5bff5b76-208c-4904-a5d5-fef0f27845ea",
   "metadata": {
    "jp-MarkdownHeadingCollapsed": true
   },
   "source": [
    "## Базовый уровень\n",
    "Написать класс естественного кубического сплайна.\n",
    "\n",
    "Рекомендуемая сигнатура:\n",
    "```c++\n",
    "#include <vector>\n",
    "#include <type_traits>\n",
    "\n",
    "/** класс для работы с трехдиагональной матрицей **/\n",
    "template<typename Type>\n",
    "class ThreeDiagonalMatrix {\n",
    "    /*** Здесь какие-то поля и методы ***/\n",
    "};\n",
    "\n",
    "template<typename numeratorType, typename denominatorType>\n",
    "using DivisType = decltype(std::declval<numeratorType>() / std::declval<denominatorType>());\n",
    "\n",
    "/** Функция для решения методм  прогонки **/\n",
    "template<typename mType, typename cType>\n",
    "std::vector<DivisType<cType, mType>> solve( const ThreeDiagonalMatrix<mType>& matrix,\n",
    "                                            const std::vector<cType>& column);\n",
    "\n",
    "\n",
    "/**\n",
    "* xType - тип аргумента x.\n",
    "* yType - тип значения функции y\n",
    "*/\n",
    "template<typename xType, typename yType>\n",
    "class CubicSpline {\n",
    "    /*** Какие-то поля ***/\n",
    "    \n",
    "    public:\n",
    "    CubicSpline( const std::vector<xType> &points,  // Значения x\n",
    "                        const std::vector<yType>& values,  // значения y\n",
    "                        );\n",
    "                        \n",
    "    yType interpolate(const xType& x) const noexcept;\n",
    "};\n",
    "```"
   ]
  },
  {
   "cell_type": "markdown",
   "id": "535940c9-2bcc-45a7-ae10-1a94b2c6a640",
   "metadata": {},
   "source": [
    "## Продвинутый уровень\n",
    "Написать класс кубического сплайна.\n",
    "\n",
    "Рекомендуемая сигнатура:\n",
    "```c++\n",
    "#include <vector>\n",
    "#include <type_traits>\n",
    "\n",
    "/** класс для работы с трехдиагональной матрицей **/\n",
    "template<typename Type>\n",
    "class ThreeDiagonalMatrix {\n",
    "    /*** Здесь какие-то поля и методы ***/\n",
    "};\n",
    "\n",
    "template<typename numeratorType, typename denominatorType>\n",
    "using DivisType = decltype(std::declval<numeratorType>() / std::declval<denominatorType>());\n",
    "\n",
    "template<typename Type>\n",
    "using DiffType = decltype(std::declval<Type>() - std::declval<Type>());\n",
    "\n",
    "/** Функция для решения методм  прогонки **/\n",
    "template<typename mType, typename cType>\n",
    "std::vector<DivisType<cType, mType>> solve( const ThreeDiagonalMatrix<mType>& matrix,\n",
    "                                            const std::vector<cType>& column);\n",
    "\n",
    "\n",
    "/**\n",
    "* xType - тип аргумента x.\n",
    "* yType - тип значения функции y\n",
    "*/\n",
    "template<typename xType, typename yType>\n",
    "class CubicSpline {\n",
    "    /*** Какие-то поля ***/\n",
    "    \n",
    "    using DeltaXType = DiffType<xType>;\n",
    "    using DerivType = DivisType<DiffType<yType>, DeltaXType>;\n",
    "    using Deriv2Type = DivisType<DiffType<DerivType>, DeltaXType>;\n",
    "    \n",
    "    public:\n",
    "    CubicSpline( const std::vector<xType> &points,  // Значения x\n",
    "                        const std::vector<yType>& values,  // значения y\n",
    "                        const Deriv2Type& first,  // значение для левой второй производной\n",
    "                        const Deriv2Type& second  // значение для правой второй производной\n",
    "                        );\n",
    "                        \n",
    "    yType interpolate(const xType& x) const noexcept;\n",
    "};\n",
    "```"
   ]
  }
 ],
 "metadata": {
  "kernelspec": {
   "display_name": "Python 3 (ipykernel)",
   "language": "python",
   "name": "python3"
  },
  "language_info": {
   "codemirror_mode": {
    "name": "ipython",
    "version": 3
   },
   "file_extension": ".py",
   "mimetype": "text/x-python",
   "name": "python",
   "nbconvert_exporter": "python",
   "pygments_lexer": "ipython3",
   "version": "3.10.12"
  }
 },
 "nbformat": 4,
 "nbformat_minor": 5
}

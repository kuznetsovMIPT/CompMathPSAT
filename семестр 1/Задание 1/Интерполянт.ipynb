{
 "cells": [
  {
   "cell_type": "markdown",
   "id": "384f280c-4928-4626-b8f8-ffbb62071156",
   "metadata": {},
   "source": [
    "# Интерполянт"
   ]
  },
  {
   "cell_type": "markdown",
   "id": "5bff5b76-208c-4904-a5d5-fef0f27845ea",
   "metadata": {},
   "source": [
    "## Базовый уровень\n",
    "Написать класс интерполянта Нтютона.\n",
    "\n",
    "Рекомендуемая сигнатура:\n",
    "```c++\n",
    "#include <array>\n",
    "\n",
    "/**\n",
    "* xType - тип аргумента x.\n",
    "* yType - тип значения функции y\n",
    "* N - количество точек для интерполяции\n",
    "*\n",
    "* Рекомедую обратить внимание. Разность (xType - xType) не обязана быть типом xType\n",
    "*/\n",
    "template<typename xType, typename yType, unisigned int N>\n",
    "class NewtonInterpolator {\n",
    "    /*** Какие-то поля ***/\n",
    "    public:\n",
    "    NewtonInterpolator(const std::array<xType, N> &points, const std::array<yType, N>& values) noexcept;\n",
    "    yType interpolate(const xType& x) const noexcept;\n",
    "};\n",
    "```"
   ]
  },
  {
   "cell_type": "markdown",
   "id": "535940c9-2bcc-45a7-ae10-1a94b2c6a640",
   "metadata": {},
   "source": [
    "## Продвинутый уровень\n",
    "Написать класс интерполянта Эрмита. Считается, что в каждой точке задана функция и производная\n",
    "\n",
    "Рекомендуемая сигнатура:\n",
    "```c++\n",
    "#include <array>\n",
    "\n",
    "/**\n",
    "* xType - тип аргумента x.\n",
    "* yType - тип значения функции y\n",
    "* N - количество точек\n",
    "*\n",
    "* Рекомедую обратить внимание. Разность (xType - xType) не обязана быть типом xType\n",
    "*/\n",
    "template<typename xType, typename yType, unisigned int N >\n",
    "class NewtonInterpolator {\n",
    "    /*** Какие-то поля ***/\n",
    "    public:\n",
    "    NewtonInterpolator(const std::array<xType, N> &points, const std::array<yType, N>& values, const std::array<yType, N>& deriv) noexcept;\n",
    "    yType interpolate(const xType& x) const noexcept;\n",
    "};\n",
    "```"
   ]
  }
 ],
 "metadata": {
  "kernelspec": {
   "display_name": "Python 3 (ipykernel)",
   "language": "python",
   "name": "python3"
  },
  "language_info": {
   "codemirror_mode": {
    "name": "ipython",
    "version": 3
   },
   "file_extension": ".py",
   "mimetype": "text/x-python",
   "name": "python",
   "nbconvert_exporter": "python",
   "pygments_lexer": "ipython3",
   "version": "3.10.12"
  }
 },
 "nbformat": 4,
 "nbformat_minor": 5
}

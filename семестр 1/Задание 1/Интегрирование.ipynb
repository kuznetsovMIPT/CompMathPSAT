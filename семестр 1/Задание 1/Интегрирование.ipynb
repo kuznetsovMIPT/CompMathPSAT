{
 "cells": [
  {
   "cell_type": "markdown",
   "id": "384f280c-4928-4626-b8f8-ffbb62071156",
   "metadata": {},
   "source": [
    "# Интегрирование"
   ]
  },
  {
   "cell_type": "markdown",
   "id": "5bff5b76-208c-4904-a5d5-fef0f27845ea",
   "metadata": {
    "jp-MarkdownHeadingCollapsed": true
   },
   "source": [
    "## Базовый уровень\n",
    "Релизовать функцию интегрирования при помощи произвольной квадратуры.\n",
    "\n",
    "Рекомендуемая сигнатура:\n",
    "```c++\n",
    "#include <array>\n",
    "#include <type_traits>\n",
    "\n",
    "template<typename A>\n",
    "struct ArgumentGetter;\n",
    "\n",
    "template<typename R, typename Arg>\n",
    "struct ArgumentGetter<R(Arg)> {\n",
    "    using Argument = Arg;\n",
    "};\n",
    "\n",
    "template<typename T>\n",
    "using Dif = decltype(std::declval<T>() - std::declval<T>());\n",
    "\n",
    "/* Функция производит интегрирование на одном отрезке */\n",
    "template<typename Callable, typename RealType, std::size_t N>\n",
    "decltype(auto) integrate(   \n",
    "    const Callable& func,  // Интегрируемая функция\n",
    "    const typename ArgumentGetter<Callable>::Argument& start,  // начало отрезка\n",
    "    const typename ArgumentGetter<Callable>::Argument& end,  // конец отрезка\n",
    "    const std::array<RealType, N>& nodes  // Узлы квадратуры на отрезке [-1, 1]\n",
    "                        );\n",
    "\n",
    "/* Функция производит интегрирование, разбивая отрезок на подотрезки длиной не более dx */\n",
    "template<typename Callable, typename RealType, std::size_t N>\n",
    "decltype(auto) integrate(   \n",
    "    const Callable& func,  // Интегрируемая функция\n",
    "    const typename ArgumentGetter<Callable>::Argument& start,  // начало отрезка\n",
    "    const typename ArgumentGetter<Callable>::Argument& end,  // конец отрезка\n",
    "    const std::array<RealType, N>& nodes,  // Узлы квадратуры на отрезке [-1, 1]\n",
    "    const Dif<typename ArgumentGetter<Callable>::Argument>& dx  // Длина подотрезка\n",
    "                        );\n",
    "```\n",
    "\n",
    "Для функции $y = sin(x)$ выполнить интегрирование на отрезке $[0, 10]$. Построить зависимость ошибки\n",
    "интегрирование от шага h."
   ]
  },
  {
   "cell_type": "markdown",
   "id": "535940c9-2bcc-45a7-ae10-1a94b2c6a640",
   "metadata": {},
   "source": [
    "## Продвинутый уровень\n",
    "Реализовать интегрирование с контролем шага по правилу Рунге, а также выполнить экстраполяцию Ричардсона.\n",
    "Для функции $y = sin(x)$ выполнить интегрирование на отрезке $[0, 10]$ при разной заданной точности $\\epsilon$.\n",
    "Построить зависимосимость реальной ошибки интегрирования от заданной точн"
   ]
  },
  {
   "cell_type": "code",
   "execution_count": null,
   "id": "f1e6e24c-d2ec-4d47-8ce0-a75cb097591d",
   "metadata": {},
   "outputs": [],
   "source": []
  }
 ],
 "metadata": {
  "kernelspec": {
   "display_name": "Python 3 (ipykernel)",
   "language": "python",
   "name": "python3"
  },
  "language_info": {
   "codemirror_mode": {
    "name": "ipython",
    "version": 3
   },
   "file_extension": ".py",
   "mimetype": "text/x-python",
   "name": "python",
   "nbconvert_exporter": "python",
   "pygments_lexer": "ipython3",
   "version": "3.10.12"
  }
 },
 "nbformat": 4,
 "nbformat_minor": 5
}
